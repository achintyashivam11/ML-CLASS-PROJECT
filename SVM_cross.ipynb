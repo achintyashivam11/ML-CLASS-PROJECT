{
 "cells": [
  {
   "cell_type": "code",
   "execution_count": 74,
   "metadata": {},
   "outputs": [
    {
     "name": "stdout",
     "output_type": "stream",
     "text": [
      "(649, 38)\n"
     ]
    }
   ],
   "source": [
    "import matplotlib.pyplot as plt\n",
    "import pandas as pd\n",
    "import warnings\n",
    "import numpy as np\n",
    "warnings.filterwarnings('always')\n",
    "filename = 'cat1.csv'\n",
    "file = pd.read_csv(filename,index_col=0)\n",
    "print(file.shape)"
   ]
  },
  {
   "cell_type": "code",
   "execution_count": 75,
   "metadata": {},
   "outputs": [],
   "source": [
    "#x = file['spectrometric_redshift']\n",
    "\n",
    "#dd=[]\n",
    "#for classes in x:\n",
    " #   if (classes <= 0.0033):\n",
    "  #      value=0\n",
    "   # elif (classes >= 0.004):\n",
    "    #    value=1    \n",
    "    \n",
    "    #dd.append(value)\n",
    "#file['class'] = dd\n",
    "\n",
    "#file.to_csv('correct.csv')"
   ]
  },
  {
   "cell_type": "code",
   "execution_count": 76,
   "metadata": {},
   "outputs": [],
   "source": [
    "#data=pandas.read_csv('correct.csv')\n",
    "#D=data.head()"
   ]
  },
  {
   "cell_type": "code",
   "execution_count": 77,
   "metadata": {},
   "outputs": [
    {
     "data": {
      "text/html": [
       "<div>\n",
       "<style scoped>\n",
       "    .dataframe tbody tr th:only-of-type {\n",
       "        vertical-align: middle;\n",
       "    }\n",
       "\n",
       "    .dataframe tbody tr th {\n",
       "        vertical-align: top;\n",
       "    }\n",
       "\n",
       "    .dataframe thead th {\n",
       "        text-align: right;\n",
       "    }\n",
       "</style>\n",
       "<table border=\"1\" class=\"dataframe\">\n",
       "  <thead>\n",
       "    <tr style=\"text-align: right;\">\n",
       "      <th></th>\n",
       "      <th>u</th>\n",
       "      <th>g</th>\n",
       "      <th>r</th>\n",
       "      <th>i</th>\n",
       "      <th>z</th>\n",
       "      <th>nuv_mag</th>\n",
       "      <th>fuv_mag</th>\n",
       "      <th>spectrometric_redshift</th>\n",
       "      <th>nuv-u</th>\n",
       "      <th>nuv-g</th>\n",
       "      <th>...</th>\n",
       "      <th>g-z</th>\n",
       "      <th>r-i</th>\n",
       "      <th>r-z</th>\n",
       "      <th>i-z</th>\n",
       "      <th>fuv-nuv</th>\n",
       "      <th>fuv-u</th>\n",
       "      <th>fuv-g</th>\n",
       "      <th>fuv-r</th>\n",
       "      <th>fuv-i</th>\n",
       "      <th>fuv-z</th>\n",
       "    </tr>\n",
       "  </thead>\n",
       "  <tbody>\n",
       "    <tr>\n",
       "      <th>0</th>\n",
       "      <td>18.286291</td>\n",
       "      <td>16.968243</td>\n",
       "      <td>16.334318</td>\n",
       "      <td>16.039885</td>\n",
       "      <td>15.857203</td>\n",
       "      <td>20.535709</td>\n",
       "      <td>22.654970</td>\n",
       "      <td>0.001933</td>\n",
       "      <td>2.249418</td>\n",
       "      <td>3.567467</td>\n",
       "      <td>...</td>\n",
       "      <td>1.111040</td>\n",
       "      <td>0.294434</td>\n",
       "      <td>0.477116</td>\n",
       "      <td>0.182682</td>\n",
       "      <td>-2.119261</td>\n",
       "      <td>-4.368679</td>\n",
       "      <td>-5.686728</td>\n",
       "      <td>-6.320652</td>\n",
       "      <td>-6.615086</td>\n",
       "      <td>-6.797768</td>\n",
       "    </tr>\n",
       "    <tr>\n",
       "      <th>1</th>\n",
       "      <td>22.734962</td>\n",
       "      <td>21.516233</td>\n",
       "      <td>20.178501</td>\n",
       "      <td>19.238029</td>\n",
       "      <td>18.809675</td>\n",
       "      <td>22.594444</td>\n",
       "      <td>22.966053</td>\n",
       "      <td>2.097114</td>\n",
       "      <td>-0.140518</td>\n",
       "      <td>1.078211</td>\n",
       "      <td>...</td>\n",
       "      <td>2.706558</td>\n",
       "      <td>0.940472</td>\n",
       "      <td>1.368826</td>\n",
       "      <td>0.428354</td>\n",
       "      <td>-0.371609</td>\n",
       "      <td>-0.231091</td>\n",
       "      <td>-1.449820</td>\n",
       "      <td>-2.787552</td>\n",
       "      <td>-3.728024</td>\n",
       "      <td>-4.156378</td>\n",
       "    </tr>\n",
       "    <tr>\n",
       "      <th>2</th>\n",
       "      <td>21.223398</td>\n",
       "      <td>21.143623</td>\n",
       "      <td>21.149973</td>\n",
       "      <td>20.998989</td>\n",
       "      <td>21.145853</td>\n",
       "      <td>22.867874</td>\n",
       "      <td>24.001894</td>\n",
       "      <td>1.730619</td>\n",
       "      <td>1.644476</td>\n",
       "      <td>1.724251</td>\n",
       "      <td>...</td>\n",
       "      <td>-0.002230</td>\n",
       "      <td>0.150984</td>\n",
       "      <td>0.004120</td>\n",
       "      <td>-0.146864</td>\n",
       "      <td>-1.134020</td>\n",
       "      <td>-2.778496</td>\n",
       "      <td>-2.858271</td>\n",
       "      <td>-2.851921</td>\n",
       "      <td>-3.002905</td>\n",
       "      <td>-2.856041</td>\n",
       "    </tr>\n",
       "    <tr>\n",
       "      <th>3</th>\n",
       "      <td>21.771444</td>\n",
       "      <td>21.636995</td>\n",
       "      <td>21.564974</td>\n",
       "      <td>21.476393</td>\n",
       "      <td>21.266085</td>\n",
       "      <td>21.900541</td>\n",
       "      <td>22.846025</td>\n",
       "      <td>0.855979</td>\n",
       "      <td>0.129097</td>\n",
       "      <td>0.263546</td>\n",
       "      <td>...</td>\n",
       "      <td>0.370911</td>\n",
       "      <td>0.088581</td>\n",
       "      <td>0.298889</td>\n",
       "      <td>0.210308</td>\n",
       "      <td>-0.945484</td>\n",
       "      <td>-1.074581</td>\n",
       "      <td>-1.209030</td>\n",
       "      <td>-1.281052</td>\n",
       "      <td>-1.369633</td>\n",
       "      <td>-1.579941</td>\n",
       "    </tr>\n",
       "    <tr>\n",
       "      <th>4</th>\n",
       "      <td>22.767988</td>\n",
       "      <td>22.018591</td>\n",
       "      <td>21.658953</td>\n",
       "      <td>21.098751</td>\n",
       "      <td>20.734152</td>\n",
       "      <td>23.461775</td>\n",
       "      <td>24.284685</td>\n",
       "      <td>1.643224</td>\n",
       "      <td>0.693787</td>\n",
       "      <td>1.443184</td>\n",
       "      <td>...</td>\n",
       "      <td>1.284439</td>\n",
       "      <td>0.560202</td>\n",
       "      <td>0.924801</td>\n",
       "      <td>0.364599</td>\n",
       "      <td>-0.822910</td>\n",
       "      <td>-1.516697</td>\n",
       "      <td>-2.266094</td>\n",
       "      <td>-2.625732</td>\n",
       "      <td>-3.185934</td>\n",
       "      <td>-3.550533</td>\n",
       "    </tr>\n",
       "  </tbody>\n",
       "</table>\n",
       "<p>5 rows × 29 columns</p>\n",
       "</div>"
      ],
      "text/plain": [
       "           u          g          r          i          z    nuv_mag  \\\n",
       "0  18.286291  16.968243  16.334318  16.039885  15.857203  20.535709   \n",
       "1  22.734962  21.516233  20.178501  19.238029  18.809675  22.594444   \n",
       "2  21.223398  21.143623  21.149973  20.998989  21.145853  22.867874   \n",
       "3  21.771444  21.636995  21.564974  21.476393  21.266085  21.900541   \n",
       "4  22.767988  22.018591  21.658953  21.098751  20.734152  23.461775   \n",
       "\n",
       "     fuv_mag  spectrometric_redshift     nuv-u     nuv-g    ...          g-z  \\\n",
       "0  22.654970                0.001933  2.249418  3.567467    ...     1.111040   \n",
       "1  22.966053                2.097114 -0.140518  1.078211    ...     2.706558   \n",
       "2  24.001894                1.730619  1.644476  1.724251    ...    -0.002230   \n",
       "3  22.846025                0.855979  0.129097  0.263546    ...     0.370911   \n",
       "4  24.284685                1.643224  0.693787  1.443184    ...     1.284439   \n",
       "\n",
       "        r-i       r-z       i-z   fuv-nuv     fuv-u     fuv-g     fuv-r  \\\n",
       "0  0.294434  0.477116  0.182682 -2.119261 -4.368679 -5.686728 -6.320652   \n",
       "1  0.940472  1.368826  0.428354 -0.371609 -0.231091 -1.449820 -2.787552   \n",
       "2  0.150984  0.004120 -0.146864 -1.134020 -2.778496 -2.858271 -2.851921   \n",
       "3  0.088581  0.298889  0.210308 -0.945484 -1.074581 -1.209030 -1.281052   \n",
       "4  0.560202  0.924801  0.364599 -0.822910 -1.516697 -2.266094 -2.625732   \n",
       "\n",
       "      fuv-i     fuv-z  \n",
       "0 -6.615086 -6.797768  \n",
       "1 -3.728024 -4.156378  \n",
       "2 -3.002905 -2.856041  \n",
       "3 -1.369633 -1.579941  \n",
       "4 -3.185934 -3.550533  \n",
       "\n",
       "[5 rows x 29 columns]"
      ]
     },
     "execution_count": 77,
     "metadata": {},
     "output_type": "execute_result"
    }
   ],
   "source": [
    "#l =['pred','galex_objid','sdss_objid','Unnamed: 0','spectrometric_redshift','Unnamed: 0.1']\n",
    "#l =['class','pred','galex_objid','sdss_objid','Unnamed: 0.1','spectrometric_redshift','extinction_u','extinction_g','extinction_r','extinction_i','extinction_z']\n",
    "l =['class','pred','galex_objid','sdss_objid','extinction_u','extinction_g','extinction_r','extinction_i','extinction_z']\n",
    "X = file.drop(l,axis=1)\n",
    "#y =file['spectrometric_redshift']\n",
    "y = file['class']\n",
    "X.head()"
   ]
  },
  {
   "cell_type": "code",
   "execution_count": 78,
   "metadata": {},
   "outputs": [
    {
     "data": {
      "text/plain": [
       "(519,)"
      ]
     },
     "execution_count": 78,
     "metadata": {},
     "output_type": "execute_result"
    }
   ],
   "source": [
    "from sklearn.model_selection import train_test_split\n",
    "X_train, X_test, y_train, y_test = train_test_split(X, y, test_size = 0.20,random_state=1)\n",
    "X_train_spectrometric_redshift = X_train['spectrometric_redshift']\n",
    "X_test_spectrometric_redshift = X_test['spectrometric_redshift']\n",
    "X_train=X_train.drop('spectrometric_redshift',axis=1)\n",
    "X_test=X_test.drop('spectrometric_redshift',axis=1)\n",
    "#y_test_spectrometric_redshift=y_test['spectrometric_redshift']\n",
    "#y_train_spectrometric_resdhift=  y_train['spectrometric_redshift']\n",
    "#X_test.shape\n",
    "X_train_spectrometric_redshift.shape\n"
   ]
  },
  {
   "cell_type": "code",
   "execution_count": 79,
   "metadata": {},
   "outputs": [
    {
     "name": "stdout",
     "output_type": "stream",
     "text": [
      "SVC(C=1.0, cache_size=200, class_weight=None, coef0=0.0,\n",
      "  decision_function_shape='ovr', degree=3, gamma='auto', kernel='linear',\n",
      "  max_iter=-1, probability=False, random_state=None, shrinking=True,\n",
      "  tol=0.001, verbose=False)\n"
     ]
    }
   ],
   "source": [
    "X=X.drop('spectrometric_redshift',axis=1)\n",
    "from sklearn.svm import SVC\n",
    "#svclassifier1 = SVC(kernel='rbf')\n",
    "svclassifier1 = SVC(kernel='linear')\n",
    "print(svclassifier1.fit(X_train, y_train))"
   ]
  },
  {
   "cell_type": "code",
   "execution_count": 80,
   "metadata": {},
   "outputs": [
    {
     "data": {
      "text/plain": [
       "SVC(C=1.0, cache_size=200, class_weight=None, coef0=0.0,\n",
       "  decision_function_shape='ovr', degree=3, gamma='auto', kernel='linear',\n",
       "  max_iter=-1, probability=False, random_state=None, shrinking=True,\n",
       "  tol=0.001, verbose=False)"
      ]
     },
     "execution_count": 80,
     "metadata": {},
     "output_type": "execute_result"
    }
   ],
   "source": [
    "svclassifier2 = SVC(kernel='linear')\n",
    "#print((svclassifier.fit(X_train_spectrometric_redshift,y_train)))\n",
    "svclassifier2.fit(np.array(X_train_spectrometric_redshift).reshape(-1,1),y_train)"
   ]
  },
  {
   "cell_type": "code",
   "execution_count": 81,
   "metadata": {},
   "outputs": [],
   "source": [
    "y_pred1 = svclassifier1.predict(X_test)\n",
    "y_pred2 = svclassifier2.predict(X_test_spectrometric_redshift.values.reshape(-1,1))\n",
    "#print(y_pred1)\n",
    "#X_test_spectrometric_redshift.shape"
   ]
  },
  {
   "cell_type": "code",
   "execution_count": 82,
   "metadata": {},
   "outputs": [
    {
     "name": "stdout",
     "output_type": "stream",
     "text": [
      "[[  3   1]\n",
      " [  6 120]]\n",
      "             precision    recall  f1-score   support\n",
      "\n",
      "          0       0.33      0.75      0.46         4\n",
      "          1       0.99      0.95      0.97       126\n",
      "\n",
      "avg / total       0.97      0.95      0.96       130\n",
      "\n",
      "(130,) (130,)\n"
     ]
    }
   ],
   "source": [
    "from sklearn.metrics import classification_report, confusion_matrix\n",
    "print(confusion_matrix(y_pred1, y_pred2))\n",
    "print(classification_report(y_pred1, y_pred2))\n",
    "print(y_pred1.shape , y_pred2.shape)"
   ]
  },
  {
   "cell_type": "code",
   "execution_count": 83,
   "metadata": {},
   "outputs": [],
   "source": [
    "#import seaborn as sns\n",
    "#get correlations of each features in dataset\n",
    "#corrmat = X.corr()\n",
    "#top_corr_features = corrmat.index\n",
    "#plt.figure(figsize=(20,20))\n",
    "#plot heat map\n",
    "#g=sns.heatmap(X[top_corr_features].corr(),annot=True,cmap=\"RdYlGn\")"
   ]
  },
  {
   "cell_type": "code",
   "execution_count": 84,
   "metadata": {},
   "outputs": [
    {
     "name": "stdout",
     "output_type": "stream",
     "text": [
      "<class 'pandas.core.frame.DataFrame'>\n",
      "Int64Index: 649 entries, 0 to 648\n",
      "Data columns (total 28 columns):\n",
      "u          649 non-null float64\n",
      "g          649 non-null float64\n",
      "r          649 non-null float64\n",
      "i          649 non-null float64\n",
      "z          649 non-null float64\n",
      "nuv_mag    649 non-null float64\n",
      "fuv_mag    649 non-null float64\n",
      "nuv-u      649 non-null float64\n",
      "nuv-g      649 non-null float64\n",
      "nuv-r      649 non-null float64\n",
      "nuv-i      649 non-null float64\n",
      "nuv-z      649 non-null float64\n",
      "u-g        649 non-null float64\n",
      "u-r        649 non-null float64\n",
      "u-i        649 non-null float64\n",
      "u-z        649 non-null float64\n",
      "g-r        649 non-null float64\n",
      "g-i        649 non-null float64\n",
      "g-z        649 non-null float64\n",
      "r-i        649 non-null float64\n",
      "r-z        649 non-null float64\n",
      "i-z        649 non-null float64\n",
      "fuv-nuv    649 non-null float64\n",
      "fuv-u      649 non-null float64\n",
      "fuv-g      649 non-null float64\n",
      "fuv-r      649 non-null float64\n",
      "fuv-i      649 non-null float64\n",
      "fuv-z      649 non-null float64\n",
      "dtypes: float64(28)\n",
      "memory usage: 147.0 KB\n"
     ]
    }
   ],
   "source": [
    "X.info()"
   ]
  },
  {
   "cell_type": "code",
   "execution_count": 85,
   "metadata": {},
   "outputs": [],
   "source": [
    "from sklearn.grid_search import GridSearchCV"
   ]
  },
  {
   "cell_type": "code",
   "execution_count": 86,
   "metadata": {},
   "outputs": [],
   "source": [
    "param_grid={'C':[0.1,1,10,100,1000],'gamma':[0.1,1,0.01,0.001,0.0001]}"
   ]
  },
  {
   "cell_type": "code",
   "execution_count": 87,
   "metadata": {},
   "outputs": [],
   "source": [
    "grid=GridSearchCV(SVC(),param_grid,verbose=0)"
   ]
  },
  {
   "cell_type": "code",
   "execution_count": 88,
   "metadata": {},
   "outputs": [
    {
     "data": {
      "text/plain": [
       "GridSearchCV(cv=None, error_score='raise',\n",
       "       estimator=SVC(C=1.0, cache_size=200, class_weight=None, coef0=0.0,\n",
       "  decision_function_shape='ovr', degree=3, gamma='auto', kernel='rbf',\n",
       "  max_iter=-1, probability=False, random_state=None, shrinking=True,\n",
       "  tol=0.001, verbose=False),\n",
       "       fit_params={}, iid=True, n_jobs=1,\n",
       "       param_grid={'C': [0.1, 1, 10, 100, 1000], 'gamma': [0.1, 1, 0.01, 0.001, 0.0001]},\n",
       "       pre_dispatch='2*n_jobs', refit=True, scoring=None, verbose=0)"
      ]
     },
     "execution_count": 88,
     "metadata": {},
     "output_type": "execute_result"
    }
   ],
   "source": [
    "grid.fit(X_train,y_train)"
   ]
  },
  {
   "cell_type": "code",
   "execution_count": 89,
   "metadata": {},
   "outputs": [
    {
     "data": {
      "text/plain": [
       "{'C': 1000, 'gamma': 0.001}"
      ]
     },
     "execution_count": 89,
     "metadata": {},
     "output_type": "execute_result"
    }
   ],
   "source": [
    "grid.best_params_"
   ]
  },
  {
   "cell_type": "code",
   "execution_count": 90,
   "metadata": {},
   "outputs": [
    {
     "data": {
      "text/plain": [
       "SVC(C=1000, cache_size=200, class_weight=None, coef0=0.0,\n",
       "  decision_function_shape='ovr', degree=3, gamma=0.001, kernel='rbf',\n",
       "  max_iter=-1, probability=False, random_state=None, shrinking=True,\n",
       "  tol=0.001, verbose=False)"
      ]
     },
     "execution_count": 90,
     "metadata": {},
     "output_type": "execute_result"
    }
   ],
   "source": [
    "grid.best_estimator_\n"
   ]
  },
  {
   "cell_type": "code",
   "execution_count": 91,
   "metadata": {},
   "outputs": [
    {
     "name": "stdout",
     "output_type": "stream",
     "text": [
      "[[  4   5]\n",
      " [  0 121]]\n",
      "\n",
      "\n",
      "             precision    recall  f1-score   support\n",
      "\n",
      "          0       1.00      0.44      0.62         9\n",
      "          1       0.96      1.00      0.98       121\n",
      "\n",
      "avg / total       0.96      0.96      0.95       130\n",
      "\n"
     ]
    }
   ],
   "source": [
    "grid_predictions=grid.predict(X_test)\n",
    "print(confusion_matrix(y_test,grid_predictions))\n",
    "print(\"\\n\")\n",
    "print(classification_report(y_test,grid_predictions))"
   ]
  },
  {
   "cell_type": "code",
   "execution_count": null,
   "metadata": {},
   "outputs": [],
   "source": []
  },
  {
   "cell_type": "code",
   "execution_count": null,
   "metadata": {},
   "outputs": [],
   "source": []
  },
  {
   "cell_type": "code",
   "execution_count": null,
   "metadata": {},
   "outputs": [],
   "source": []
  },
  {
   "cell_type": "code",
   "execution_count": null,
   "metadata": {},
   "outputs": [],
   "source": []
  },
  {
   "cell_type": "code",
   "execution_count": null,
   "metadata": {},
   "outputs": [],
   "source": []
  },
  {
   "cell_type": "code",
   "execution_count": null,
   "metadata": {},
   "outputs": [],
   "source": []
  },
  {
   "cell_type": "code",
   "execution_count": null,
   "metadata": {},
   "outputs": [],
   "source": []
  },
  {
   "cell_type": "code",
   "execution_count": null,
   "metadata": {},
   "outputs": [],
   "source": []
  },
  {
   "cell_type": "code",
   "execution_count": null,
   "metadata": {},
   "outputs": [],
   "source": []
  }
 ],
 "metadata": {
  "kernelspec": {
   "display_name": "Python 3",
   "language": "python",
   "name": "python3"
  },
  "language_info": {
   "codemirror_mode": {
    "name": "ipython",
    "version": 3
   },
   "file_extension": ".py",
   "mimetype": "text/x-python",
   "name": "python",
   "nbconvert_exporter": "python",
   "pygments_lexer": "ipython3",
   "version": "3.6.5"
  }
 },
 "nbformat": 4,
 "nbformat_minor": 2
}
