{
 "cells": [
  {
   "cell_type": "code",
   "execution_count": 111,
   "metadata": {},
   "outputs": [],
   "source": [
    "import pandas as pd\n",
    "import numpy as np\n",
    "import matplotlib.pyplot as plt"
   ]
  },
  {
   "cell_type": "code",
   "execution_count": 112,
   "metadata": {},
   "outputs": [
    {
     "data": {
      "text/plain": [
       "(649, 39)"
      ]
     },
     "execution_count": 112,
     "metadata": {},
     "output_type": "execute_result"
    }
   ],
   "source": [
    "df = pd.read_csv('../catalog1/cat1.csv')\n",
    "df.shape"
   ]
  },
  {
   "cell_type": "code",
   "execution_count": 113,
   "metadata": {},
   "outputs": [],
   "source": [
    "star_df = df[df['class']==0][0:200]\n",
    "quasar_df = df[df['class']==1][0:200]"
   ]
  },
  {
   "cell_type": "code",
   "execution_count": 120,
   "metadata": {},
   "outputs": [
    {
     "data": {
      "text/plain": [
       "Index(['Unnamed: 0', 'galex_objid', 'sdss_objid', 'u', 'g', 'r', 'i', 'z',\n",
       "       'extinction_u', 'extinction_g', 'extinction_r', 'extinction_i',\n",
       "       'extinction_z', 'nuv_mag', 'fuv_mag', 'class', 'spectrometric_redshift',\n",
       "       'nuv-u', 'nuv-g', 'nuv-r', 'nuv-i', 'nuv-z', 'u-g', 'u-r', 'u-i', 'u-z',\n",
       "       'g-r', 'g-i', 'g-z', 'r-i', 'r-z', 'i-z', 'fuv-nuv', 'fuv-u', 'fuv-g',\n",
       "       'fuv-r', 'fuv-i', 'fuv-z', 'pred'],\n",
       "      dtype='object')"
      ]
     },
     "execution_count": 120,
     "metadata": {},
     "output_type": "execute_result"
    }
   ],
   "source": [
    "star_df.columns\n",
    "quasar_df.columns"
   ]
  },
  {
   "cell_type": "code",
   "execution_count": 115,
   "metadata": {},
   "outputs": [
    {
     "data": {
      "text/plain": [
       "<matplotlib.axes._subplots.AxesSubplot at 0x7f128cb25a20>"
      ]
     },
     "execution_count": 115,
     "metadata": {},
     "output_type": "execute_result"
    },
    {
     "data": {
      "image/png": "[encoded data removed]",
      "text/plain": [
       "<Figure size 432x288 with 1 Axes>"
      ]
     },
     "metadata": {
      "needs_background": "light"
     },
     "output_type": "display_data"
    }
   ],
   "source": [
    "axes = star_df.plot(kind='scatter',x='fuv_mag',y='nuv_mag',color='red',label='Star')\n",
    "quasar_df.plot(kind='scatter',x='fuv_mag',y='nuv_mag',color='blue',label='Quasar',ax=axes)"
   ]
  },
  {
   "cell_type": "code",
   "execution_count": 116,
   "metadata": {},
   "outputs": [],
   "source": [
    "df.columns\n",
    "feature_df = df[['u', 'g', 'r', 'i', 'z',\n",
    "       'extinction_u', 'extinction_g', 'extinction_r', 'extinction_i',\n",
    "       'extinction_z', 'nuv_mag', 'fuv_mag','nuv-u', 'nuv-g', 'nuv-r', 'nuv-i', 'nuv-z', 'u-g', 'u-r', 'u-i', 'u-z',\n",
    "       'g-r', 'g-i', 'g-z', 'r-i', 'r-z', 'i-z', 'fuv-nuv', 'fuv-u', 'fuv-g',\n",
    "       'fuv-r', 'fuv-i', 'fuv-z',]]\n",
    "X = np.asarray(feature_df)\n",
    "Y = np.asarray(df['pred'])"
   ]
  },
  {
   "cell_type": "code",
   "execution_count": 117,
   "metadata": {},
   "outputs": [
    {
     "data": {
      "text/plain": [
       "(195,)"
      ]
     },
     "execution_count": 117,
     "metadata": {},
     "output_type": "execute_result"
    }
   ],
   "source": [
    "from sklearn.model_selection import train_test_split\n",
    "X_test,X_train,Y_test,Y_train = train_test_split(X,Y,test_size=0.3,random_state=5)\n",
    "X_test.shape\n",
    "X_train.shape\n",
    "Y_test.shape\n",
    "Y_train.shape"
   ]
  },
  {
   "cell_type": "code",
   "execution_count": 118,
   "metadata": {},
   "outputs": [],
   "source": [
    "from sklearn import svm\n",
    "classifier = svm.SVC(kernel='linear',gamma='auto',C=1.5)\n",
    "classifier.fit(X_train,Y_train)\n",
    "Y_pred = classifier.predict(X_test)"
   ]
  },
  {
   "cell_type": "code",
   "execution_count": 119,
   "metadata": {},
   "outputs": [
    {
     "name": "stdout",
     "output_type": "stream",
     "text": [
      "Accuracy :  0.9669603524229075\n",
      "              precision    recall  f1-score   support\n",
      "\n",
      "           0       0.84      0.72      0.78        36\n",
      "           1       0.98      0.99      0.98       418\n",
      "\n",
      "    accuracy                           0.97       454\n",
      "   macro avg       0.91      0.86      0.88       454\n",
      "weighted avg       0.97      0.97      0.97       454\n",
      "\n",
      "[[ 26  10]\n",
      " [  5 413]]\n"
     ]
    }
   ],
   "source": [
    "from sklearn.metrics import classification_report,confusion_matrix,accuracy_score\n",
    "print(\"Accuracy : \",accuracy_score(Y_test,Y_pred))\n",
    "print(classification_report(Y_test,Y_pred))\n",
    "print(confusion_matrix(Y_test,Y_pred))"
   ]
  },
  {
   "cell_type": "code",
   "execution_count": 122,
   "metadata": {},
   "outputs": [
    {
     "name": "stdout",
     "output_type": "stream",
     "text": [
      "[0.92       0.91836735 0.95833333 0.9375    ]\n"
     ]
    }
   ],
   "source": [
    "from sklearn.model_selection import cross_val_score\n",
    "svm_linear = cross_val_score(classifier,X_train,Y_train,cv=4)\n",
    "print(svm_linear)"
   ]
  },
  {
   "cell_type": "code",
   "execution_count": null,
   "metadata": {},
   "outputs": [],
   "source": []
  }
 ],
 "metadata": {
  "kernelspec": {
   "display_name": "Python 3",
   "language": "python",
   "name": "python3"
  },
  "language_info": {
   "codemirror_mode": {
    "name": "ipython",
    "version": 3
   },
   "file_extension": ".py",
   "mimetype": "text/x-python",
   "name": "python",
   "nbconvert_exporter": "python",
   "pygments_lexer": "ipython3",
   "version": "3.6.8"
  }
 },
 "nbformat": 4,
 "nbformat_minor": 2
}
